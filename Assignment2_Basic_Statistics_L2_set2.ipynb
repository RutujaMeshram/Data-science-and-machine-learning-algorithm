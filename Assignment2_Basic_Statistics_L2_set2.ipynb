{
  "nbformat": 4,
  "nbformat_minor": 0,
  "metadata": {
    "colab": {
      "provenance": []
    },
    "kernelspec": {
      "name": "python3",
      "display_name": "Python 3"
    },
    "language_info": {
      "name": "python"
    }
  },
  "cells": [
    {
      "cell_type": "code",
      "source": [
        "from scipy import stats\n",
        "from scipy.stats import norm\n"
      ],
      "metadata": {
        "id": "HwH4eI0nnINo"
      },
      "execution_count": 2,
      "outputs": []
    },
    {
      "cell_type": "markdown",
      "source": [
        "# **1. The time required for servicing transmissions is normally distributed with m = 45 minutes and s = 8 minutes. The service manager plans to have work begin on the transmission of a customer’s car 10 minutes after the car is dropped off and the customer is told that the car will be ready within 1 hour from drop-off. What is the probability that the service manager cannot meet his commitment?**\n",
        "\n",
        "A. 0.3875\n",
        "\n",
        "B. 0.2676\n",
        "\n",
        "C. 0.5\n",
        "\n",
        "D. 0.6987"
      ],
      "metadata": {
        "id": "CZGO349LcVvo"
      }
    },
    {
      "cell_type": "code",
      "source": [
        "# Find Z-Score at X=50, Z=(X-µ) / σ\n",
        "\n",
        "Z= (50-45)/8\n",
        "Z"
      ],
      "metadata": {
        "colab": {
          "base_uri": "https://localhost:8080/"
        },
        "id": "IPkd1ik-nEea",
        "outputId": "65dfdc45-098f-42a3-91cb-1fd01b39886c"
      },
      "execution_count": 3,
      "outputs": [
        {
          "output_type": "execute_result",
          "data": {
            "text/plain": [
              "0.625"
            ]
          },
          "metadata": {},
          "execution_count": 3
        }
      ]
    },
    {
      "cell_type": "code",
      "source": [
        "# Find probability P(X>50)\n",
        "\n",
        "1-stats.norm.cdf(abs(Z))"
      ],
      "metadata": {
        "colab": {
          "base_uri": "https://localhost:8080/"
        },
        "id": "AYcNCYqtnArR",
        "outputId": "2859e492-4d95-43c9-877e-eeaca08ee987"
      },
      "execution_count": 4,
      "outputs": [
        {
          "output_type": "execute_result",
          "data": {
            "text/plain": [
              "0.26598552904870054"
            ]
          },
          "metadata": {},
          "execution_count": 4
        }
      ]
    },
    {
      "cell_type": "code",
      "source": [
        "# Find probability P(X<=50) , p_value = stats.norm.cdf(abs(z_score))\n",
        "\n",
        "p_value = stats.norm.cdf(abs(Z))\n",
        "p_value"
      ],
      "metadata": {
        "colab": {
          "base_uri": "https://localhost:8080/"
        },
        "id": "V8HPAJBQobWJ",
        "outputId": "a4a7b542-06a6-40a8-aa70-edb419c22416"
      },
      "execution_count": 5,
      "outputs": [
        {
          "output_type": "execute_result",
          "data": {
            "text/plain": [
              "0.7340144709512995"
            ]
          },
          "metadata": {},
          "execution_count": 5
        }
      ]
    },
    {
      "cell_type": "code",
      "source": [
        "# P(X>50) = 1 - P(X<=50)\n",
        "\n",
        "1-0.734"
      ],
      "metadata": {
        "colab": {
          "base_uri": "https://localhost:8080/"
        },
        "id": "U6BX-SnTpGKx",
        "outputId": "a972983f-8cf4-4d8c-8aae-7a51dc197bf9"
      },
      "execution_count": 6,
      "outputs": [
        {
          "output_type": "execute_result",
          "data": {
            "text/plain": [
              "0.266"
            ]
          },
          "metadata": {},
          "execution_count": 6
        }
      ]
    },
    {
      "cell_type": "markdown",
      "source": [
        "#  Ans=**B. 0.2676**"
      ],
      "metadata": {
        "id": "SULSEWh2dbMe"
      }
    },
    {
      "cell_type": "markdown",
      "source": [
        "# **2. The current age (in years) of 400 clerical employees at an insurance claims processing center is normally distributed with mean m = 38 and Standard deviation s =6. For each statement below, please specify True/False. If false, briefly explain why.**\n",
        "\n",
        "\n",
        "*   More employees at the processing center are older than 44 than between 38 and 44\n",
        "\n",
        "\n"
      ],
      "metadata": {
        "id": "g29KyEracpan"
      }
    },
    {
      "cell_type": "code",
      "source": [
        "# A) More employee at the processing center are older than 44th"
      ],
      "metadata": {
        "id": "-asPzAA8pjhg"
      },
      "execution_count": 7,
      "outputs": []
    },
    {
      "cell_type": "code",
      "source": [
        "# p(X>44);  Employees older than 44 yrs of age\n",
        "\n",
        "1-stats.norm.cdf(44,loc=38,scale=6)"
      ],
      "metadata": {
        "colab": {
          "base_uri": "https://localhost:8080/"
        },
        "id": "GCN5pNjTvAb_",
        "outputId": "a10b185a-41b6-4946-9ade-e95e623589ef"
      },
      "execution_count": 8,
      "outputs": [
        {
          "output_type": "execute_result",
          "data": {
            "text/plain": [
              "0.15865525393145707"
            ]
          },
          "metadata": {},
          "execution_count": 8
        }
      ]
    },
    {
      "cell_type": "code",
      "source": [
        "#p(38<X<44); Employees between 38 to 44 yrs of age\n",
        "\n",
        "stats.norm.cdf(44,loc=38,scale=6)-stats.norm.cdf(38,loc=38,scale=6)"
      ],
      "metadata": {
        "colab": {
          "base_uri": "https://localhost:8080/"
        },
        "id": "FMC7UPxEvVej",
        "outputId": "41f371f2-af07-4df4-8420-bb6987a3ac93"
      },
      "execution_count": 9,
      "outputs": [
        {
          "output_type": "execute_result",
          "data": {
            "text/plain": [
              "0.3413447460685429"
            ]
          },
          "metadata": {},
          "execution_count": 9
        }
      ]
    },
    {
      "cell_type": "code",
      "source": [
        "# B)  A training program for employees under the age of 30 at the"
      ],
      "metadata": {
        "id": "co9ufpd_wB6S"
      },
      "execution_count": 10,
      "outputs": []
    },
    {
      "cell_type": "code",
      "source": [
        "# P(X<30); Employees under 30 yrs of age\n",
        "\n",
        "stats.norm.cdf(30, loc=38,scale=6)"
      ],
      "metadata": {
        "colab": {
          "base_uri": "https://localhost:8080/"
        },
        "id": "FXdnTv7AwgFK",
        "outputId": "ed3705ad-b278-4a8b-fa5a-c608f6a8756b"
      },
      "execution_count": 11,
      "outputs": [
        {
          "output_type": "execute_result",
          "data": {
            "text/plain": [
              "0.09121121972586788"
            ]
          },
          "metadata": {},
          "execution_count": 11
        }
      ]
    },
    {
      "cell_type": "code",
      "source": [
        "# No. of employees attending training program from 400 nos. is\n",
        "\n",
        "400*stats.norm.cdf(30,loc=38,scale=6)"
      ],
      "metadata": {
        "colab": {
          "base_uri": "https://localhost:8080/"
        },
        "id": "Dgh6Dy1Mw32Q",
        "outputId": "f396fdd3-7e2c-4215-d35c-0b9110cabe16"
      },
      "execution_count": 12,
      "outputs": [
        {
          "output_type": "execute_result",
          "data": {
            "text/plain": [
              "36.484487890347154"
            ]
          },
          "metadata": {},
          "execution_count": 12
        }
      ]
    },
    {
      "cell_type": "markdown",
      "source": [
        "# **4. Let X ~ N(100, 202). Find two values, a and b, symmetric about the mean, such that the probability of the random variable taking a value between them is 0.99.**\n",
        "\n",
        "A. 90.5, 105.9\n",
        "\n",
        "B. 80.2, 119.8\n",
        "\n",
        "C. 22, 78\n",
        "\n",
        "D. 48.5, 151.5\n",
        "\n",
        "E. 90.1, 109.9"
      ],
      "metadata": {
        "id": "V9VlOX1XdGOv"
      }
    },
    {
      "cell_type": "code",
      "source": [
        "from scipy import stats\n",
        "from scipy.stats import norm"
      ],
      "metadata": {
        "id": "d-rqQSIpxWfu"
      },
      "execution_count": 13,
      "outputs": []
    },
    {
      "cell_type": "code",
      "source": [
        "stats.norm.interval(0.99,100,20)"
      ],
      "metadata": {
        "colab": {
          "base_uri": "https://localhost:8080/"
        },
        "id": "hlbducgQ1R-F",
        "outputId": "f4aaa3a0-746d-4839-e566-9ac079654988"
      },
      "execution_count": 14,
      "outputs": [
        {
          "output_type": "execute_result",
          "data": {
            "text/plain": [
              "(48.48341392902199, 151.516586070978)"
            ]
          },
          "metadata": {},
          "execution_count": 14
        }
      ]
    },
    {
      "cell_type": "markdown",
      "source": [
        "#Ans= **D.48.5, 151.5**"
      ],
      "metadata": {
        "id": "q_MDgFRYdRm2"
      }
    },
    {
      "cell_type": "markdown",
      "source": [
        "# **5. Consider a company that has two different divisions. The annual profits from the two divisions are independent and have distributions Profit1 ~ N(5, 3^2) and Profit2 ~ N(7, 4^2) respectively. Both the profits are in Million Dollar. Answer the following questions about the total profit of the company in Rupees. Assume that 1 Dollar = Rs. 45 **\n",
        "\n",
        "\n",
        "\n",
        "*  ** A. Specify a Rupee range (centered on the mean) such that it contains 95% probability for the annual profit of the company**.\n",
        "\n",
        "Profit1 + Profit2 = N(5, 3^2) + N(7, 4^2)\n",
        "\n",
        "Annual Profit = N(12, 5^2)\n",
        "\n",
        "\n"
      ],
      "metadata": {
        "id": "FLt2_5tGdrVt"
      }
    },
    {
      "cell_type": "code",
      "source": [
        "from scipy import stats as st"
      ],
      "metadata": {
        "id": "xHj-oq0Keyt3"
      },
      "execution_count": 18,
      "outputs": []
    },
    {
      "cell_type": "code",
      "source": [
        "45*abs(12 - st.norm.ppf(0.975)*5)"
      ],
      "metadata": {
        "id": "edqugy5h1dxD",
        "colab": {
          "base_uri": "https://localhost:8080/"
        },
        "outputId": "8ea5f788-d9c7-44f4-b1d0-f6ae448ffdc3"
      },
      "execution_count": 20,
      "outputs": [
        {
          "output_type": "execute_result",
          "data": {
            "text/plain": [
              "99.00810347848788"
            ]
          },
          "metadata": {},
          "execution_count": 20
        }
      ]
    },
    {
      "cell_type": "code",
      "source": [
        "45*abs(12 + st.norm.ppf(0.975)*5)"
      ],
      "metadata": {
        "colab": {
          "base_uri": "https://localhost:8080/"
        },
        "id": "pXxaMKb_eRZs",
        "outputId": "e3985536-dfb8-4538-a261-fd32d9c3ef13"
      },
      "execution_count": 21,
      "outputs": [
        {
          "output_type": "execute_result",
          "data": {
            "text/plain": [
              "980.9918965215121"
            ]
          },
          "metadata": {},
          "execution_count": 21
        }
      ]
    },
    {
      "cell_type": "markdown",
      "source": [
        "**B. Specify the 5th percentile of profit (in Rupees) for the company**"
      ],
      "metadata": {
        "id": "s4xIxXise-I1"
      }
    },
    {
      "cell_type": "code",
      "source": [
        "45*abs(12 + st.norm.ppf(0.05)*5)"
      ],
      "metadata": {
        "colab": {
          "base_uri": "https://localhost:8080/"
        },
        "id": "6rVDYfG-e6vn",
        "outputId": "1a11986f-fcd0-4e67-e815-18e60bd7346b"
      },
      "execution_count": 22,
      "outputs": [
        {
          "output_type": "execute_result",
          "data": {
            "text/plain": [
              "169.90793393591858"
            ]
          },
          "metadata": {},
          "execution_count": 22
        }
      ]
    },
    {
      "cell_type": "code",
      "source": [],
      "metadata": {
        "id": "MwiTN-ZEfCCW"
      },
      "execution_count": null,
      "outputs": []
    }
  ]
}